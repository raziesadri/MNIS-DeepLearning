{
  "nbformat": 4,
  "nbformat_minor": 0,
  "metadata": {
    "colab": {
      "name": "MNIST-FC.ipynb",
      "provenance": [],
      "collapsed_sections": [],
      "authorship_tag": "ABX9TyNsAh+m/fef0aP1UEGsSe8r",
      "include_colab_link": true
    },
    "kernelspec": {
      "name": "python3",
      "display_name": "Python 3"
    },
    "language_info": {
      "name": "python"
    }
  },
  "cells": [
    {
      "cell_type": "markdown",
      "metadata": {
        "id": "view-in-github",
        "colab_type": "text"
      },
      "source": [
        "<a href=\"https://colab.research.google.com/github/raziesadri/MNIS-DeepLearning/blob/main/MNIST_FC.ipynb\" target=\"_parent\"><img src=\"https://colab.research.google.com/assets/colab-badge.svg\" alt=\"Open In Colab\"/></a>"
      ]
    },
    {
      "cell_type": "markdown",
      "metadata": {
        "id": "pkCbZ7cMeJX3"
      },
      "source": [
        "# MNIST Fully Connected Model\n",
        "The MNIST handwritten digit classification problem is a standard dataset used in computer vision and deep learning.\n",
        "In this project we creat and test a deep learning model with sequential model and fully connected layers. "
      ]
    },
    {
      "cell_type": "markdown",
      "metadata": {
        "id": "N7kP37bQeDPF"
      },
      "source": [
        "## Imports"
      ]
    },
    {
      "cell_type": "code",
      "metadata": {
        "id": "je2wtte8UobZ"
      },
      "source": [
        "from keras.datasets import mnist\n",
        "from keras.models import Sequential\n",
        "from keras.layers import Dense, Dropout\n",
        "from keras.losses import categorical_crossentropy\n",
        "import numpy as np\n",
        "from sklearn.metrics import confusion_matrix, classification_report"
      ],
      "execution_count": null,
      "outputs": []
    },
    {
      "cell_type": "markdown",
      "metadata": {
        "id": "glj7GPuaTfpB"
      },
      "source": [
        "## Plot Function"
      ]
    },
    {
      "cell_type": "code",
      "metadata": {
        "id": "9ES5wi6iRAC_"
      },
      "source": [
        "#plotting\n",
        "def plot_history(net_history):\n",
        "    history = net_history.history\n",
        "    import matplotlib.pyplot as plt\n",
        "    losses = history['loss']\n",
        "    val_losses = history['val_loss']\n",
        "    accuracies = history['acc']\n",
        "    val_accuracies = history['val_acc']\n",
        "    \n",
        "    plt.xlabel('Epochs')\n",
        "    plt.ylabel('Loss')\n",
        "    plt.plot(losses)\n",
        "    plt.plot(val_losses)\n",
        "    plt.legend(['loss', 'val_loss'])\n",
        "    \n",
        "    plt.figure()\n",
        "    plt.xlabel('Epochs')\n",
        "    plt.ylabel('Accuracy')\n",
        "    plt.plot(accuracies)\n",
        "    plt.plot(val_accuracies)\n",
        "    plt.legend(['acc', 'val_acc'])"
      ],
      "execution_count": null,
      "outputs": []
    },
    {
      "cell_type": "markdown",
      "metadata": {
        "id": "hqzPgPODd7wX"
      },
      "source": [
        "## Load Data\n",
        "This is a dataset of 60,000 28x28 grayscale images of the 10 digits, along with a test set of 10,000 images. "
      ]
    },
    {
      "cell_type": "code",
      "metadata": {
        "colab": {
          "base_uri": "https://localhost:8080/"
        },
        "id": "Kn8aynbTYxL_",
        "outputId": "afba9f37-db60-4296-dfc3-10f899a2922e"
      },
      "source": [
        "#load data\n",
        "(train_images, train_labels), (test_images, test_labels) = mnist.load_data()\n",
        "\n",
        "# Data attributes\n",
        "print(\"train_images dimentions: \", train_images.ndim)\n",
        "print(\"train_images shape: \", train_images.shape)\n",
        "print(\"train_images type: \", train_images.dtype)"
      ],
      "execution_count": null,
      "outputs": [
        {
          "output_type": "stream",
          "name": "stdout",
          "text": [
            "Downloading data from https://storage.googleapis.com/tensorflow/tf-keras-datasets/mnist.npz\n",
            "11493376/11490434 [==============================] - 0s 0us/step\n",
            "11501568/11490434 [==============================] - 0s 0us/step\n",
            "train_images dimentions:  3\n",
            "train_images shape:  (60000, 28, 28)\n",
            "train_images type:  uint8\n"
          ]
        }
      ]
    },
    {
      "cell_type": "markdown",
      "metadata": {
        "id": "bvxOZhA_d1A9"
      },
      "source": [
        "## Data Pre Process"
      ]
    },
    {
      "cell_type": "code",
      "metadata": {
        "id": "CO2XVRoLdsO9",
        "colab": {
          "base_uri": "https://localhost:8080/"
        },
        "outputId": "cdf8cb81-33d9-462f-97a3-4daf921b8838"
      },
      "source": [
        "#dimension reduction\n",
        "x_train = train_images.reshape(60000, 784)\n",
        "x_test = test_images.reshape(10000, 784)\n",
        "\n",
        "#change the type from integer to float for normalization\n",
        "x_train = x_train.astype('float32')\n",
        "x_test = x_test.astype('float32')\n",
        "\n",
        "#normalization\n",
        "x_train /= 255\n",
        "x_test/= 255\n",
        "\n",
        "#label's one hot encoding \n",
        "from keras.utils import np_utils\n",
        "y_train = np_utils.to_categorical(train_labels)\n",
        "y_test = np_utils.to_categorical(test_labels)\n",
        "print(y_test)"
      ],
      "execution_count": null,
      "outputs": [
        {
          "output_type": "stream",
          "name": "stdout",
          "text": [
            "[[0. 0. 0. ... 1. 0. 0.]\n",
            " [0. 0. 1. ... 0. 0. 0.]\n",
            " [0. 1. 0. ... 0. 0. 0.]\n",
            " ...\n",
            " [0. 0. 0. ... 0. 0. 0.]\n",
            " [0. 0. 0. ... 0. 0. 0.]\n",
            " [0. 0. 0. ... 0. 0. 0.]]\n"
          ]
        }
      ]
    },
    {
      "cell_type": "markdown",
      "metadata": {
        "id": "osm5NqGefIBJ"
      },
      "source": [
        "## Creat A Sequential Model"
      ]
    },
    {
      "cell_type": "code",
      "metadata": {
        "id": "63SwHT9-deAU"
      },
      "source": [
        "MyModel = Sequential()"
      ],
      "execution_count": null,
      "outputs": []
    },
    {
      "cell_type": "markdown",
      "metadata": {
        "id": "QIvIdkkDhGBV"
      },
      "source": [
        "###Add Layers"
      ]
    },
    {
      "cell_type": "code",
      "metadata": {
        "id": "nVlsthxEf8hT"
      },
      "source": [
        "#input layer\n",
        "MyModel.add(Dense(500, activation='relu', input_shape=(784,)))\n",
        "#droupout layer\n",
        "MyModel.add(Dropout(0.2))\n",
        "MyModel.add(Dense(100, activation='relu'))\n",
        "#droupout layer\n",
        "MyModel.add(Dropout(0.2))\n",
        "#output layer\n",
        "MyModel.add(Dense(10, activation='softmax'))\n"
      ],
      "execution_count": null,
      "outputs": []
    },
    {
      "cell_type": "markdown",
      "metadata": {
        "id": "IMmVHRpehgJd"
      },
      "source": [
        "### Model Summery"
      ]
    },
    {
      "cell_type": "code",
      "metadata": {
        "colab": {
          "base_uri": "https://localhost:8080/"
        },
        "id": "DQvsikbBhlFM",
        "outputId": "80122e41-31ea-47c4-db73-d4ad140edd3b"
      },
      "source": [
        "MyModel.summary()"
      ],
      "execution_count": null,
      "outputs": [
        {
          "output_type": "stream",
          "name": "stdout",
          "text": [
            "Model: \"sequential\"\n",
            "_________________________________________________________________\n",
            "Layer (type)                 Output Shape              Param #   \n",
            "=================================================================\n",
            "dense (Dense)                (None, 500)               392500    \n",
            "_________________________________________________________________\n",
            "dropout (Dropout)            (None, 500)               0         \n",
            "_________________________________________________________________\n",
            "dense_1 (Dense)              (None, 100)               50100     \n",
            "_________________________________________________________________\n",
            "dropout_1 (Dropout)          (None, 100)               0         \n",
            "_________________________________________________________________\n",
            "dense_2 (Dense)              (None, 10)                1010      \n",
            "=================================================================\n",
            "Total params: 443,610\n",
            "Trainable params: 443,610\n",
            "Non-trainable params: 0\n",
            "_________________________________________________________________\n"
          ]
        }
      ]
    },
    {
      "cell_type": "markdown",
      "metadata": {
        "id": "8xIqTvXaiAbs"
      },
      "source": [
        "###Compile Model"
      ]
    },
    {
      "cell_type": "code",
      "metadata": {
        "id": "lRwqbVWuiFDn"
      },
      "source": [
        "MyModel.compile(optimizer='SGD', loss=categorical_crossentropy, metrics=['acc'])"
      ],
      "execution_count": null,
      "outputs": []
    },
    {
      "cell_type": "markdown",
      "metadata": {
        "id": "-lqAToi2kjVT"
      },
      "source": [
        "## Train Model"
      ]
    },
    {
      "cell_type": "code",
      "metadata": {
        "colab": {
          "base_uri": "https://localhost:8080/",
          "height": 1000
        },
        "id": "YIPjsVY4knvZ",
        "outputId": "c63b4604-a796-4d3d-b3ac-747df18c2e0b"
      },
      "source": [
        "network_history = MyModel.fit(x_train, y_train, batch_size=128, epochs=20, validation_split=0.2)\n",
        "plot_history(network_history)"
      ],
      "execution_count": null,
      "outputs": [
        {
          "output_type": "stream",
          "name": "stdout",
          "text": [
            "Epoch 1/20\n",
            "375/375 [==============================] - 4s 8ms/step - loss: 1.2851 - acc: 0.6335 - val_loss: 0.6064 - val_acc: 0.8607\n",
            "Epoch 2/20\n",
            "375/375 [==============================] - 3s 7ms/step - loss: 0.6291 - acc: 0.8183 - val_loss: 0.4115 - val_acc: 0.8940\n",
            "Epoch 3/20\n",
            "375/375 [==============================] - 3s 7ms/step - loss: 0.5011 - acc: 0.8526 - val_loss: 0.3507 - val_acc: 0.9046\n",
            "Epoch 4/20\n",
            "375/375 [==============================] - 3s 7ms/step - loss: 0.4381 - acc: 0.8721 - val_loss: 0.3149 - val_acc: 0.9120\n",
            "Epoch 5/20\n",
            "375/375 [==============================] - 3s 7ms/step - loss: 0.3983 - acc: 0.8847 - val_loss: 0.2919 - val_acc: 0.9161\n",
            "Epoch 6/20\n",
            "375/375 [==============================] - 3s 7ms/step - loss: 0.3687 - acc: 0.8930 - val_loss: 0.2733 - val_acc: 0.9206\n",
            "Epoch 7/20\n",
            "375/375 [==============================] - 3s 7ms/step - loss: 0.3452 - acc: 0.8991 - val_loss: 0.2577 - val_acc: 0.9265\n",
            "Epoch 8/20\n",
            "375/375 [==============================] - 3s 7ms/step - loss: 0.3246 - acc: 0.9051 - val_loss: 0.2447 - val_acc: 0.9298\n",
            "Epoch 9/20\n",
            "375/375 [==============================] - 3s 7ms/step - loss: 0.3113 - acc: 0.9077 - val_loss: 0.2357 - val_acc: 0.9319\n",
            "Epoch 10/20\n",
            "375/375 [==============================] - 3s 7ms/step - loss: 0.2932 - acc: 0.9157 - val_loss: 0.2251 - val_acc: 0.9357\n",
            "Epoch 11/20\n",
            "375/375 [==============================] - 3s 7ms/step - loss: 0.2798 - acc: 0.9183 - val_loss: 0.2158 - val_acc: 0.9391\n",
            "Epoch 12/20\n",
            "375/375 [==============================] - 3s 7ms/step - loss: 0.2706 - acc: 0.9217 - val_loss: 0.2074 - val_acc: 0.9407\n",
            "Epoch 13/20\n",
            "375/375 [==============================] - 3s 7ms/step - loss: 0.2608 - acc: 0.9244 - val_loss: 0.2002 - val_acc: 0.9427\n",
            "Epoch 14/20\n",
            "375/375 [==============================] - 3s 7ms/step - loss: 0.2515 - acc: 0.9261 - val_loss: 0.1933 - val_acc: 0.9450\n",
            "Epoch 15/20\n",
            "375/375 [==============================] - 3s 7ms/step - loss: 0.2446 - acc: 0.9285 - val_loss: 0.1878 - val_acc: 0.9473\n",
            "Epoch 16/20\n",
            "375/375 [==============================] - 3s 7ms/step - loss: 0.2364 - acc: 0.9309 - val_loss: 0.1823 - val_acc: 0.9483\n",
            "Epoch 17/20\n",
            "375/375 [==============================] - 3s 7ms/step - loss: 0.2287 - acc: 0.9342 - val_loss: 0.1767 - val_acc: 0.9501\n",
            "Epoch 18/20\n",
            "375/375 [==============================] - 3s 7ms/step - loss: 0.2210 - acc: 0.9354 - val_loss: 0.1718 - val_acc: 0.9518\n",
            "Epoch 19/20\n",
            "375/375 [==============================] - 3s 7ms/step - loss: 0.2149 - acc: 0.9388 - val_loss: 0.1674 - val_acc: 0.9523\n",
            "Epoch 20/20\n",
            "375/375 [==============================] - 3s 7ms/step - loss: 0.2068 - acc: 0.9414 - val_loss: 0.1626 - val_acc: 0.9540\n"
          ]
        },
        {
          "output_type": "display_data",
          "data": {
            "image/png": "[encoded data removed]",
            "text/plain": [
              "<Figure size 432x288 with 1 Axes>"
            ]
          },
          "metadata": {
            "needs_background": "light"
          }
        },
        {
          "output_type": "display_data",
          "data": {
            "image/png": "[encoded data removed]",
            "text/plain": [
              "<Figure size 432x288 with 1 Axes>"
            ]
          },
          "metadata": {
            "needs_background": "light"
          }
        }
      ]
    },
    {
      "cell_type": "markdown",
      "metadata": {
        "id": "Zs0nB9kRIJPp"
      },
      "source": [
        "## Test Model"
      ]
    },
    {
      "cell_type": "markdown",
      "metadata": {
        "id": "vEX5MCzHKgtp"
      },
      "source": [
        "### Evaluation"
      ]
    },
    {
      "cell_type": "code",
      "metadata": {
        "id": "4y0Qmk_qSz5V",
        "colab": {
          "base_uri": "https://localhost:8080/"
        },
        "outputId": "04a295e1-40ee-4862-94bb-7c857e25e647"
      },
      "source": [
        "test_loss, test_acc = MyModel.evaluate(x_test, y_test)"
      ],
      "execution_count": null,
      "outputs": [
        {
          "output_type": "stream",
          "name": "stdout",
          "text": [
            "313/313 [==============================] - 1s 2ms/step - loss: 0.1624 - acc: 0.9527\n"
          ]
        }
      ]
    },
    {
      "cell_type": "markdown",
      "metadata": {
        "id": "DIWW2kH-JG6U"
      },
      "source": [
        "### Predict"
      ]
    },
    {
      "cell_type": "code",
      "metadata": {
        "colab": {
          "base_uri": "https://localhost:8080/"
        },
        "id": "SgfMoPmnJMqH",
        "outputId": "e67ae614-2ae7-4786-eae2-df9c7ff4a433"
      },
      "source": [
        "test_labels_p = MyModel.predict(x_test)\n",
        "test_labels_p = np.argmax(test_labels_p, axis=1)\n"
      ],
      "execution_count": null,
      "outputs": [
        {
          "output_type": "stream",
          "name": "stdout",
          "text": [
            "[7 2 1 ... 4 5 6]\n"
          ]
        }
      ]
    },
    {
      "cell_type": "code",
      "metadata": {
        "colab": {
          "base_uri": "https://localhost:8080/"
        },
        "id": "Vt_w_ANJTD6c",
        "outputId": "9c0bca91-2c75-4ecb-ea64-ae77f0f7ec4d"
      },
      "source": [
        "y_test = np.argmax(y_test, axis=1)\n",
        "print(y_test)"
      ],
      "execution_count": null,
      "outputs": [
        {
          "output_type": "stream",
          "name": "stdout",
          "text": [
            "[7 2 1 ... 4 5 6]\n"
          ]
        }
      ]
    },
    {
      "cell_type": "markdown",
      "metadata": {
        "id": "CjbADderUI-B"
      },
      "source": [
        "### Confusion Matrix"
      ]
    },
    {
      "cell_type": "code",
      "metadata": {
        "colab": {
          "base_uri": "https://localhost:8080/"
        },
        "id": "-mH1B-QbTYmz",
        "outputId": "17012fd1-470b-4a3b-dbd3-d27a84f0a78b"
      },
      "source": [
        "confusion_matrix(y_true=y_test, y_pred=test_labels_p)"
      ],
      "execution_count": null,
      "outputs": [
        {
          "output_type": "execute_result",
          "data": {
            "text/plain": [
              "array([[ 966,    0,    1,    0,    0,    3,    7,    1,    2,    0],\n",
              "       [   0, 1115,    3,    2,    0,    1,    3,    2,    9,    0],\n",
              "       [   9,    1,  972,    9,    6,    0,    9,    8,   14,    4],\n",
              "       [   1,    1,   15,  959,    0,   11,    2,   10,    9,    2],\n",
              "       [   1,    0,    4,    0,  940,    0,    8,    2,    4,   23],\n",
              "       [  10,    1,    1,   18,    3,  829,   10,    1,   12,    7],\n",
              "       [   9,    3,    1,    1,    9,    6,  925,    0,    4,    0],\n",
              "       [   3,    9,   20,    6,    5,    0,    0,  966,    1,   18],\n",
              "       [   4,    1,    5,   17,    5,    6,   10,    8,  912,    6],\n",
              "       [   8,    6,    1,   10,   24,    4,    1,    7,    5,  943]])"
            ]
          },
          "metadata": {},
          "execution_count": 24
        }
      ]
    },
    {
      "cell_type": "markdown",
      "metadata": {
        "id": "rY_RDIstxtLe"
      },
      "source": [
        "###  Classification Report"
      ]
    },
    {
      "cell_type": "code",
      "metadata": {
        "colab": {
          "base_uri": "https://localhost:8080/"
        },
        "id": "uOuA2FFuT65J",
        "outputId": "0258cfbf-9de2-4428-b192-4ea5c1e8006c"
      },
      "source": [
        "print(classification_report(y_test, test_labels_p))"
      ],
      "execution_count": null,
      "outputs": [
        {
          "output_type": "stream",
          "name": "stdout",
          "text": [
            "              precision    recall  f1-score   support\n",
            "\n",
            "           0       0.96      0.99      0.97       980\n",
            "           1       0.98      0.98      0.98      1135\n",
            "           2       0.95      0.94      0.95      1032\n",
            "           3       0.94      0.95      0.94      1010\n",
            "           4       0.95      0.96      0.95       982\n",
            "           5       0.96      0.93      0.95       892\n",
            "           6       0.95      0.97      0.96       958\n",
            "           7       0.96      0.94      0.95      1028\n",
            "           8       0.94      0.94      0.94       974\n",
            "           9       0.94      0.93      0.94      1009\n",
            "\n",
            "    accuracy                           0.95     10000\n",
            "   macro avg       0.95      0.95      0.95     10000\n",
            "weighted avg       0.95      0.95      0.95     10000\n",
            "\n"
          ]
        }
      ]
    }
  ]
}