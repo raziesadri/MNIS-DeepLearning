{
  "nbformat": 4,
  "nbformat_minor": 0,
  "metadata": {
    "colab": {
      "name": "MNIST_CONV.ipynb",
      "provenance": [],
      "collapsed_sections": [],
      "authorship_tag": "ABX9TyOnyrwckHXefOCTMGd/4ZaZ",
      "include_colab_link": true
    },
    "kernelspec": {
      "name": "python3",
      "display_name": "Python 3"
    },
    "language_info": {
      "name": "python"
    }
  },
  "cells": [
    {
      "cell_type": "markdown",
      "metadata": {
        "id": "view-in-github",
        "colab_type": "text"
      },
      "source": [
        "<a href=\"https://colab.research.google.com/github/raziesadri/MNIST-DeepLearning/blob/main/MNIST_CONV.ipynb\" target=\"_parent\"><img src=\"https://colab.research.google.com/assets/colab-badge.svg\" alt=\"Open In Colab\"/></a>"
      ]
    },
    {
      "cell_type": "markdown",
      "metadata": {
        "id": "f7fS9ZnBWH2m"
      },
      "source": [
        "# MNIST convolutional Model\n",
        "The MNIST handwritten digit classification problem is a standard dataset used in computer vision and deep learning. In this code we creat a deep learning model with fuctional API model and convolutional layers using keras library."
      ]
    },
    {
      "cell_type": "markdown",
      "metadata": {
        "id": "LwgtXqKXamJC"
      },
      "source": [
        "## Imports"
      ]
    },
    {
      "cell_type": "code",
      "metadata": {
        "id": "ybzq5aLwV2iG"
      },
      "source": [
        "from keras.datasets import mnist\n",
        "from keras.models import Model\n",
        "from keras import layers\n",
        "import keras\n",
        "import numpy as np\n",
        "from sklearn.metrics import confusion_matrix, classification_report"
      ],
      "execution_count": 1,
      "outputs": []
    },
    {
      "cell_type": "markdown",
      "metadata": {
        "id": "glj7GPuaTfpB"
      },
      "source": [
        "## Plot Function"
      ]
    },
    {
      "cell_type": "code",
      "metadata": {
        "id": "9ES5wi6iRAC_"
      },
      "source": [
        "#plotting\n",
        "def plot_history(net_history):\n",
        "    history = net_history.history\n",
        "    import matplotlib.pyplot as plt\n",
        "    losses = history['loss']\n",
        "    val_losses = history['val_loss']\n",
        "    accuracies = history['accuracy']\n",
        "    val_accuracies = history['val_accuracy']\n",
        "    \n",
        "    plt.xlabel('Epochs')\n",
        "    plt.ylabel('Loss')\n",
        "    plt.plot(losses)\n",
        "    plt.plot(val_losses)\n",
        "    plt.legend(['loss', 'val_accuracy'])\n",
        "    \n",
        "    plt.figure()\n",
        "    plt.xlabel('Epochs')\n",
        "    plt.ylabel('Accuracy')\n",
        "    plt.plot(accuracies)\n",
        "    plt.plot(val_accuracies)\n",
        "    plt.legend(['accuracy', 'val_accuracy'])"
      ],
      "execution_count": 13,
      "outputs": []
    },
    {
      "cell_type": "markdown",
      "metadata": {
        "id": "hqzPgPODd7wX"
      },
      "source": [
        "## Load Data\n",
        "This is a dataset of 60,000 28x28 grayscale images of the 10 digits, along with a test set of 10,000 images. "
      ]
    },
    {
      "cell_type": "code",
      "metadata": {
        "colab": {
          "base_uri": "https://localhost:8080/"
        },
        "id": "Kn8aynbTYxL_",
        "outputId": "053ae278-41ed-4bc7-e68b-a190e14e06ce"
      },
      "source": [
        "#load data\n",
        "(train_images, train_labels), (test_images, test_labels) = mnist.load_data()\n",
        "\n",
        "# Data attributes\n",
        "print(\"train_images dimentions: \", train_images.ndim)\n",
        "print(\"train_images shape: \", train_images.shape)\n",
        "print(\"train_images type: \", train_images.dtype)"
      ],
      "execution_count": 3,
      "outputs": [
        {
          "output_type": "stream",
          "name": "stdout",
          "text": [
            "Downloading data from https://storage.googleapis.com/tensorflow/tf-keras-datasets/mnist.npz\n",
            "11493376/11490434 [==============================] - 0s 0us/step\n",
            "11501568/11490434 [==============================] - 0s 0us/step\n",
            "train_images dimentions:  3\n",
            "train_images shape:  (60000, 28, 28)\n",
            "train_images type:  uint8\n"
          ]
        }
      ]
    },
    {
      "cell_type": "markdown",
      "metadata": {
        "id": "bvxOZhA_d1A9"
      },
      "source": [
        "## Data Pre Process"
      ]
    },
    {
      "cell_type": "code",
      "metadata": {
        "id": "CO2XVRoLdsO9",
        "colab": {
          "base_uri": "https://localhost:8080/"
        },
        "outputId": "a43c05c2-e573-48e4-a3be-79f1c7bc29d2"
      },
      "source": [
        "#reshap: add channel dimension\n",
        "x_train = train_images.reshape(60000, 28, 28, 1)\n",
        "x_test = test_images.reshape(10000, 28, 28, 1)\n",
        "\n",
        "#change the type from integer to float for normalization\n",
        "x_train = x_train.astype('float32')\n",
        "x_test = x_test.astype('float32')\n",
        "\n",
        "#normalization\n",
        "x_train /= 255\n",
        "x_test/= 255\n",
        "\n",
        "#label's one hot encoding \n",
        "from keras.utils import np_utils\n",
        "y_train = np_utils.to_categorical(train_labels)\n",
        "y_test = np_utils.to_categorical(test_labels)\n",
        "print(y_test)"
      ],
      "execution_count": 4,
      "outputs": [
        {
          "output_type": "stream",
          "name": "stdout",
          "text": [
            "[[0. 0. 0. ... 1. 0. 0.]\n",
            " [0. 0. 1. ... 0. 0. 0.]\n",
            " [0. 1. 0. ... 0. 0. 0.]\n",
            " ...\n",
            " [0. 0. 0. ... 0. 0. 0.]\n",
            " [0. 0. 0. ... 0. 0. 0.]\n",
            " [0. 0. 0. ... 0. 0. 0.]]\n"
          ]
        }
      ]
    },
    {
      "cell_type": "markdown",
      "metadata": {
        "id": "osm5NqGefIBJ"
      },
      "source": [
        "## Creat Convolutional Layers"
      ]
    },
    {
      "cell_type": "code",
      "metadata": {
        "id": "yKb2wDaUb7u5"
      },
      "source": [
        "myInput = layers.Input(shape=(28, 28, 1))\n",
        "conv1 = layers.Conv2D(16, 3, activation ='relu', padding='same',strides=2)(myInput)\n",
        "conv2 = layers.Conv2D(32, 3, activation='relu',padding='same', strides=2)(conv1)\n",
        "flat = layers.Flatten()(conv2) # output form is a vector\n",
        "out_layer = layers.Dense(10, activation='softmax')(flat)"
      ],
      "execution_count": 5,
      "outputs": []
    },
    {
      "cell_type": "markdown",
      "metadata": {
        "id": "PHrqvU_1prvM"
      },
      "source": [
        "## Creat Model"
      ]
    },
    {
      "cell_type": "code",
      "metadata": {
        "id": "aNgRI1pgpuyh"
      },
      "source": [
        "myModel = Model(myInput, out_layer)"
      ],
      "execution_count": 6,
      "outputs": []
    },
    {
      "cell_type": "markdown",
      "metadata": {
        "id": "c1STrpHErF7q"
      },
      "source": [
        "## Model Summary"
      ]
    },
    {
      "cell_type": "code",
      "metadata": {
        "colab": {
          "base_uri": "https://localhost:8080/"
        },
        "id": "jO1NBGBNrJ-k",
        "outputId": "7b681a7f-1121-40f4-c72f-017362047436"
      },
      "source": [
        "myModel.summary()"
      ],
      "execution_count": 20,
      "outputs": [
        {
          "output_type": "stream",
          "name": "stdout",
          "text": [
            "Model: \"model\"\n",
            "_________________________________________________________________\n",
            "Layer (type)                 Output Shape              Param #   \n",
            "=================================================================\n",
            "input_1 (InputLayer)         [(None, 28, 28, 1)]       0         \n",
            "_________________________________________________________________\n",
            "conv2d (Conv2D)              (None, 14, 14, 16)        160       \n",
            "_________________________________________________________________\n",
            "conv2d_1 (Conv2D)            (None, 7, 7, 32)          4640      \n",
            "_________________________________________________________________\n",
            "flatten (Flatten)            (None, 1568)              0         \n",
            "_________________________________________________________________\n",
            "dense (Dense)                (None, 10)                15690     \n",
            "=================================================================\n",
            "Total params: 20,490\n",
            "Trainable params: 20,490\n",
            "Non-trainable params: 0\n",
            "_________________________________________________________________\n"
          ]
        }
      ]
    },
    {
      "cell_type": "markdown",
      "metadata": {
        "id": "Ml2bV9ItqPoA"
      },
      "source": [
        "## Compile Model"
      ]
    },
    {
      "cell_type": "code",
      "metadata": {
        "id": "TP6XLKZIqVfT"
      },
      "source": [
        "myModel.compile(optimizer='adam', loss=keras.losses.categorical_crossentropy, metrics=['accuracy'])"
      ],
      "execution_count": 21,
      "outputs": []
    },
    {
      "cell_type": "markdown",
      "metadata": {
        "id": "NTSUyTEbsdu_"
      },
      "source": [
        "## Train Model"
      ]
    },
    {
      "cell_type": "code",
      "metadata": {
        "colab": {
          "base_uri": "https://localhost:8080/"
        },
        "id": "Tu_eDhfFsggb",
        "outputId": "4bd31aae-38ce-45cc-fa88-5fe8c8fe4d22"
      },
      "source": [
        "network_history = myModel.fit(x_train, y_train, batch_size=128, epochs=20, validation_split=0.2)\n"
      ],
      "execution_count": 10,
      "outputs": [
        {
          "output_type": "stream",
          "name": "stdout",
          "text": [
            "Epoch 1/20\n",
            "375/375 [==============================] - 8s 18ms/step - loss: 0.4895 - accuracy: 0.8645 - val_loss: 0.2149 - val_accuracy: 0.9396\n",
            "Epoch 2/20\n",
            "375/375 [==============================] - 7s 18ms/step - loss: 0.1722 - accuracy: 0.9490 - val_loss: 0.1277 - val_accuracy: 0.9612\n",
            "Epoch 3/20\n",
            "375/375 [==============================] - 7s 18ms/step - loss: 0.1071 - accuracy: 0.9683 - val_loss: 0.0925 - val_accuracy: 0.9729\n",
            "Epoch 4/20\n",
            "375/375 [==============================] - 7s 19ms/step - loss: 0.0823 - accuracy: 0.9753 - val_loss: 0.0864 - val_accuracy: 0.9734\n",
            "Epoch 5/20\n",
            "375/375 [==============================] - 7s 18ms/step - loss: 0.0689 - accuracy: 0.9795 - val_loss: 0.0741 - val_accuracy: 0.9793\n",
            "Epoch 6/20\n",
            "375/375 [==============================] - 7s 18ms/step - loss: 0.0591 - accuracy: 0.9821 - val_loss: 0.0716 - val_accuracy: 0.9798\n",
            "Epoch 7/20\n",
            "375/375 [==============================] - 7s 18ms/step - loss: 0.0523 - accuracy: 0.9838 - val_loss: 0.0729 - val_accuracy: 0.9799\n",
            "Epoch 8/20\n",
            "375/375 [==============================] - 7s 19ms/step - loss: 0.0465 - accuracy: 0.9855 - val_loss: 0.0662 - val_accuracy: 0.9812\n",
            "Epoch 9/20\n",
            "375/375 [==============================] - 7s 19ms/step - loss: 0.0424 - accuracy: 0.9866 - val_loss: 0.0722 - val_accuracy: 0.9782\n",
            "Epoch 10/20\n",
            "375/375 [==============================] - 7s 19ms/step - loss: 0.0378 - accuracy: 0.9882 - val_loss: 0.0673 - val_accuracy: 0.9807\n",
            "Epoch 11/20\n",
            "375/375 [==============================] - 7s 19ms/step - loss: 0.0349 - accuracy: 0.9886 - val_loss: 0.0684 - val_accuracy: 0.9808\n",
            "Epoch 12/20\n",
            "375/375 [==============================] - 7s 19ms/step - loss: 0.0311 - accuracy: 0.9900 - val_loss: 0.0640 - val_accuracy: 0.9821\n",
            "Epoch 13/20\n",
            "375/375 [==============================] - 7s 19ms/step - loss: 0.0289 - accuracy: 0.9906 - val_loss: 0.0673 - val_accuracy: 0.9806\n",
            "Epoch 14/20\n",
            "375/375 [==============================] - 7s 19ms/step - loss: 0.0261 - accuracy: 0.9920 - val_loss: 0.0713 - val_accuracy: 0.9793\n",
            "Epoch 15/20\n",
            "375/375 [==============================] - 7s 19ms/step - loss: 0.0229 - accuracy: 0.9930 - val_loss: 0.0698 - val_accuracy: 0.9814\n",
            "Epoch 16/20\n",
            "375/375 [==============================] - 7s 18ms/step - loss: 0.0220 - accuracy: 0.9932 - val_loss: 0.0645 - val_accuracy: 0.9837\n",
            "Epoch 17/20\n",
            "375/375 [==============================] - 7s 19ms/step - loss: 0.0198 - accuracy: 0.9936 - val_loss: 0.0675 - val_accuracy: 0.9820\n",
            "Epoch 18/20\n",
            "375/375 [==============================] - 7s 19ms/step - loss: 0.0178 - accuracy: 0.9944 - val_loss: 0.0672 - val_accuracy: 0.9822\n",
            "Epoch 19/20\n",
            "375/375 [==============================] - 7s 19ms/step - loss: 0.0166 - accuracy: 0.9951 - val_loss: 0.0738 - val_accuracy: 0.9821\n",
            "Epoch 20/20\n",
            "375/375 [==============================] - 7s 19ms/step - loss: 0.0159 - accuracy: 0.9950 - val_loss: 0.0722 - val_accuracy: 0.9822\n"
          ]
        }
      ]
    },
    {
      "cell_type": "code",
      "metadata": {
        "colab": {
          "base_uri": "https://localhost:8080/",
          "height": 543
        },
        "id": "8GW7287J44ZX",
        "outputId": "2260c24a-0cc8-4040-9798-15487b23fed2"
      },
      "source": [
        "plot_history(network_history)"
      ],
      "execution_count": 14,
      "outputs": [
        {
          "output_type": "display_data",
          "data": {
            "image/png": "[encoded data removed]",
            "text/plain": [
              "<Figure size 432x288 with 1 Axes>"
            ]
          },
          "metadata": {
            "needs_background": "light"
          }
        },
        {
          "output_type": "display_data",
          "data": {
            "image/png": "[encoded data removed]",
            "text/plain": [
              "<Figure size 432x288 with 1 Axes>"
            ]
          },
          "metadata": {
            "needs_background": "light"
          }
        }
      ]
    },
    {
      "cell_type": "markdown",
      "metadata": {
        "id": "5v_ml8K4tpW-"
      },
      "source": [
        "## Test Model"
      ]
    },
    {
      "cell_type": "markdown",
      "metadata": {
        "id": "0gwTfYgdt5Kn"
      },
      "source": [
        "### Evaluation"
      ]
    },
    {
      "cell_type": "code",
      "metadata": {
        "colab": {
          "base_uri": "https://localhost:8080/"
        },
        "id": "aNzdWA2cts2q",
        "outputId": "12e65aad-e8e6-4b23-af3b-b4de98d5940e"
      },
      "source": [
        "test_loss, test_acc = myModel.evaluate(x_test, y_test)"
      ],
      "execution_count": 15,
      "outputs": [
        {
          "output_type": "stream",
          "name": "stdout",
          "text": [
            "313/313 [==============================] - 1s 3ms/step - loss: 0.0648 - accuracy: 0.9836\n"
          ]
        }
      ]
    },
    {
      "cell_type": "markdown",
      "metadata": {
        "id": "Pe9tFqC3u1g9"
      },
      "source": [
        "### Predict"
      ]
    },
    {
      "cell_type": "code",
      "metadata": {
        "colab": {
          "base_uri": "https://localhost:8080/"
        },
        "id": "MaRqlWkQu4dU",
        "outputId": "1f9e6c14-70f3-4f49-fa40-05f49cdbadb6"
      },
      "source": [
        "test_labels_p = myModel.predict(x_test)\n",
        "test_labels_p = np.argmax(test_labels_p, axis=1)\n",
        "print(test_labels_p)"
      ],
      "execution_count": 16,
      "outputs": [
        {
          "output_type": "stream",
          "name": "stdout",
          "text": [
            "[7 2 1 ... 4 5 6]\n"
          ]
        }
      ]
    },
    {
      "cell_type": "code",
      "metadata": {
        "colab": {
          "base_uri": "https://localhost:8080/"
        },
        "id": "vg97cdrlwzDG",
        "outputId": "a0ed3d16-24ef-4091-dcf7-3010a0726ac7"
      },
      "source": [
        "y_test = np.argmax(y_test, axis=1)\n",
        "print(y_test)"
      ],
      "execution_count": 17,
      "outputs": [
        {
          "output_type": "stream",
          "name": "stdout",
          "text": [
            "[7 2 1 ... 4 5 6]\n"
          ]
        }
      ]
    },
    {
      "cell_type": "markdown",
      "metadata": {
        "id": "OC74FMCcxRhf"
      },
      "source": [
        "### Confusion Matrix"
      ]
    },
    {
      "cell_type": "code",
      "metadata": {
        "colab": {
          "base_uri": "https://localhost:8080/"
        },
        "id": "rADP_T10xX2a",
        "outputId": "59bbe157-67bf-4cee-a486-22867bcfbc74"
      },
      "source": [
        "confusion_matrix(y_true=y_test, y_pred=test_labels_p)"
      ],
      "execution_count": 18,
      "outputs": [
        {
          "output_type": "execute_result",
          "data": {
            "text/plain": [
              "array([[ 975,    0,    0,    0,    1,    1,    1,    0,    1,    1],\n",
              "       [   0, 1130,    2,    1,    0,    0,    1,    0,    1,    0],\n",
              "       [   3,    5, 1011,    2,    2,    0,    1,    6,    2,    0],\n",
              "       [   0,    0,    2,  995,    0,    7,    0,    2,    1,    3],\n",
              "       [   0,    1,    0,    0,  977,    0,    0,    0,    0,    4],\n",
              "       [   3,    0,    0,    5,    0,  876,    5,    2,    0,    1],\n",
              "       [   3,    2,    1,    0,    1,    3,  946,    0,    2,    0],\n",
              "       [   0,    3,    8,    4,    0,    0,    0, 1005,    2,    6],\n",
              "       [   5,    1,    3,    6,    0,    2,    1,    4,  946,    6],\n",
              "       [   1,    3,    1,    0,   15,    5,    0,    6,    3,  975]])"
            ]
          },
          "metadata": {},
          "execution_count": 18
        }
      ]
    },
    {
      "cell_type": "markdown",
      "metadata": {
        "id": "E6vUlQMmxiT_"
      },
      "source": [
        "### Classification Report"
      ]
    },
    {
      "cell_type": "code",
      "metadata": {
        "colab": {
          "base_uri": "https://localhost:8080/"
        },
        "id": "szBOf2IBxi-D",
        "outputId": "59a54b2e-4800-4df6-ec5c-a961ca4c9534"
      },
      "source": [
        "print(classification_report(y_test, test_labels_p))"
      ],
      "execution_count": 19,
      "outputs": [
        {
          "output_type": "stream",
          "name": "stdout",
          "text": [
            "              precision    recall  f1-score   support\n",
            "\n",
            "           0       0.98      0.99      0.99       980\n",
            "           1       0.99      1.00      0.99      1135\n",
            "           2       0.98      0.98      0.98      1032\n",
            "           3       0.98      0.99      0.98      1010\n",
            "           4       0.98      0.99      0.99       982\n",
            "           5       0.98      0.98      0.98       892\n",
            "           6       0.99      0.99      0.99       958\n",
            "           7       0.98      0.98      0.98      1028\n",
            "           8       0.99      0.97      0.98       974\n",
            "           9       0.98      0.97      0.97      1009\n",
            "\n",
            "    accuracy                           0.98     10000\n",
            "   macro avg       0.98      0.98      0.98     10000\n",
            "weighted avg       0.98      0.98      0.98     10000\n",
            "\n"
          ]
        }
      ]
    }
  ]
}